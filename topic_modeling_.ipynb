{
 "cells": [
  {
   "cell_type": "code",
   "execution_count": 1,
   "metadata": {},
   "outputs": [],
   "source": [
    "import pandas as pd"
   ]
  },
  {
   "cell_type": "code",
   "execution_count": 2,
   "metadata": {},
   "outputs": [],
   "source": [
    "df = pd.read_csv(\"C:\\\\Users\\\\USER\\\\Desktop\\\\nlp_mini_prj_vds_csv_file.csv\")"
   ]
  },
  {
   "cell_type": "code",
   "execution_count": 13,
   "metadata": {},
   "outputs": [],
   "source": [
    "df['ID'] = [101,102,103,104,105,106,107,108,109,110]"
   ]
  },
  {
   "cell_type": "code",
   "execution_count": 14,
   "metadata": {},
   "outputs": [],
   "source": [
    "df.set_index('ID',inplace=True)"
   ]
  },
  {
   "cell_type": "code",
   "execution_count": 3,
   "metadata": {},
   "outputs": [],
   "source": [
    "from sklearn.feature_extraction.text import TfidfVectorizer"
   ]
  },
  {
   "cell_type": "code",
   "execution_count": 4,
   "metadata": {},
   "outputs": [],
   "source": [
    "from sklearn.decomposition import NMF"
   ]
  },
  {
   "cell_type": "code",
   "execution_count": 15,
   "metadata": {},
   "outputs": [
    {
     "data": {
      "text/html": [
       "<div>\n",
       "<style scoped>\n",
       "    .dataframe tbody tr th:only-of-type {\n",
       "        vertical-align: middle;\n",
       "    }\n",
       "\n",
       "    .dataframe tbody tr th {\n",
       "        vertical-align: top;\n",
       "    }\n",
       "\n",
       "    .dataframe thead th {\n",
       "        text-align: right;\n",
       "    }\n",
       "</style>\n",
       "<table border=\"1\" class=\"dataframe\">\n",
       "  <thead>\n",
       "    <tr style=\"text-align: right;\">\n",
       "      <th></th>\n",
       "      <th>Posts</th>\n",
       "      <th>topic</th>\n",
       "      <th>topic_labels</th>\n",
       "    </tr>\n",
       "    <tr>\n",
       "      <th>ID</th>\n",
       "      <th></th>\n",
       "      <th></th>\n",
       "      <th></th>\n",
       "    </tr>\n",
       "  </thead>\n",
       "  <tbody>\n",
       "    <tr>\n",
       "      <th>101</th>\n",
       "      <td>Completed an AI Specialization!Few months back...</td>\n",
       "      <td>1</td>\n",
       "      <td>ai course by laurence</td>\n",
       "    </tr>\n",
       "    <tr>\n",
       "      <th>102</th>\n",
       "      <td>I have submitted my resume to hundreds of comp...</td>\n",
       "      <td>8</td>\n",
       "      <td>automotive companies internship</td>\n",
       "    </tr>\n",
       "    <tr>\n",
       "      <th>103</th>\n",
       "      <td>Proud to announce on behalf of all Mandya Dist...</td>\n",
       "      <td>3</td>\n",
       "      <td>mandya farmers</td>\n",
       "    </tr>\n",
       "    <tr>\n",
       "      <th>104</th>\n",
       "      <td>I am posting for the second time. As i am tryi...</td>\n",
       "      <td>9</td>\n",
       "      <td>job support</td>\n",
       "    </tr>\n",
       "    <tr>\n",
       "      <th>105</th>\n",
       "      <td>As we continue our journey of becoming part of...</td>\n",
       "      <td>2</td>\n",
       "      <td>wroclaw-poland</td>\n",
       "    </tr>\n",
       "    <tr>\n",
       "      <th>106</th>\n",
       "      <td>Electric Miniature jeep!! Arunkumar, Kerala de...</td>\n",
       "      <td>6</td>\n",
       "      <td>electric jeep</td>\n",
       "    </tr>\n",
       "    <tr>\n",
       "      <th>107</th>\n",
       "      <td>There are so many professional's on LinkedIn t...</td>\n",
       "      <td>0</td>\n",
       "      <td>LinkedIn</td>\n",
       "    </tr>\n",
       "    <tr>\n",
       "      <th>108</th>\n",
       "      <td>Apple’s most iconic retail store to date. Insp...</td>\n",
       "      <td>4</td>\n",
       "      <td>apple singapore</td>\n",
       "    </tr>\n",
       "    <tr>\n",
       "      <th>109</th>\n",
       "      <td>Life starts when you solve problems, as a data...</td>\n",
       "      <td>7</td>\n",
       "      <td>telecom business dashboards using tablaeu</td>\n",
       "    </tr>\n",
       "    <tr>\n",
       "      <th>110</th>\n",
       "      <td>When I was at IIM Ahmedabad, I had the habit o...</td>\n",
       "      <td>5</td>\n",
       "      <td>campus education</td>\n",
       "    </tr>\n",
       "  </tbody>\n",
       "</table>\n",
       "</div>"
      ],
      "text/plain": [
       "                                                 Posts  topic  \\\n",
       "ID                                                              \n",
       "101  Completed an AI Specialization!Few months back...      1   \n",
       "102  I have submitted my resume to hundreds of comp...      8   \n",
       "103  Proud to announce on behalf of all Mandya Dist...      3   \n",
       "104  I am posting for the second time. As i am tryi...      9   \n",
       "105  As we continue our journey of becoming part of...      2   \n",
       "106  Electric Miniature jeep!! Arunkumar, Kerala de...      6   \n",
       "107  There are so many professional's on LinkedIn t...      0   \n",
       "108  Apple’s most iconic retail store to date. Insp...      4   \n",
       "109  Life starts when you solve problems, as a data...      7   \n",
       "110  When I was at IIM Ahmedabad, I had the habit o...      5   \n",
       "\n",
       "                                  topic_labels  \n",
       "ID                                              \n",
       "101                      ai course by laurence  \n",
       "102            automotive companies internship  \n",
       "103                             mandya farmers  \n",
       "104                                job support  \n",
       "105                             wroclaw-poland  \n",
       "106                              electric jeep  \n",
       "107                                   LinkedIn  \n",
       "108                            apple singapore  \n",
       "109  telecom business dashboards using tablaeu  \n",
       "110                           campus education  "
      ]
     },
     "execution_count": 15,
     "metadata": {},
     "output_type": "execute_result"
    }
   ],
   "source": [
    "df"
   ]
  },
  {
   "cell_type": "code",
   "execution_count": null,
   "metadata": {},
   "outputs": [],
   "source": []
  },
  {
   "cell_type": "markdown",
   "metadata": {},
   "source": [
    "# latentDirichletsAllocation "
   ]
  },
  {
   "cell_type": "code",
   "execution_count": 5,
   "metadata": {},
   "outputs": [],
   "source": [
    "from sklearn.decomposition import LatentDirichletAllocation\n",
    "from sklearn.feature_extraction.text import CountVectorizer"
   ]
  },
  {
   "cell_type": "code",
   "execution_count": 6,
   "metadata": {},
   "outputs": [],
   "source": [
    "#cv = CountVectorizer(max_df=1,min_df=1,stop_words='english')\n",
    "#dir_dtm = cv.fit_transform(df['Posts'])\n",
    "#dir_model = LatentDirichletAllocation(n_components=10,random_state=0)\n",
    "#dir_model.fit(dir_dtm)\n",
    "#for index,topic in enumerate(dir_model.components_):\n",
    "#    print(f\"the top 10 words for index {index} is :\")\n",
    "#    print([cv.get_feature_names()[i] for i in topic.argsort()[-20:]])\n",
    "#    print('\\n')\n",
    "#    print('\\n')\n",
    "#topic_results = dir_model.transform(dir_dtm)\n",
    "#df['topic'] = topic_results.argmax(axis=1)"
   ]
  },
  {
   "cell_type": "markdown",
   "metadata": {},
   "source": [
    "# the dirichlets allocation is not so great as nmf when there was a comparision and hence, chose NMF for final topic modelling"
   ]
  },
  {
   "cell_type": "markdown",
   "metadata": {},
   "source": [
    "# non negative matrix factorization"
   ]
  },
  {
   "cell_type": "code",
   "execution_count": 16,
   "metadata": {},
   "outputs": [],
   "source": [
    "def topic_modelling(df):\n",
    "    tfidf = TfidfVectorizer(max_df=1.0,min_df=1,stop_words='english')\n",
    "    dtm = tfidf.fit_transform(df['Posts'])\n",
    "    nmf_model = NMF(n_components=10,random_state=0)\n",
    "    nmf_model.fit(dtm)\n",
    "    for index,topic in enumerate(nmf_model.components_):\n",
    "        print(f\"The top 15 word for {index} is :\")\n",
    "        print([tfidf.get_feature_names()[i] for i in topic.argsort()[-20:]])\n",
    "        print('\\n')\n",
    "    topic_res = nmf_model.transform(dtm)\n",
    "    df['topic'] = topic_res.argmax(axis=1)\n",
    "    my_topic_dict = {0:'LinkedIn',1:'ai course by laurence',2:'wroclaw-poland',3:'mandya farmers',\n",
    "                4:'apple singapore',5:'campus education',6:'electric jeep',7:'telecom business dashboards using tablaeu',\n",
    "                8:'automotive companies internship',9:'job support'}\n",
    "    df['topic_labels'] = df['topic'].map(my_topic_dict)\n",
    "    return df"
   ]
  },
  {
   "cell_type": "code",
   "execution_count": 17,
   "metadata": {},
   "outputs": [
    {
     "name": "stdout",
     "output_type": "stream",
     "text": [
      "The top 15 word for 0 is :\n",
      "['hope', 'network', 'asking', 'little', 'linkedin', 'unsuccessful', 'likes', 'finding', 'helping', 'talk', 'ago', 'imagine', 'hardly', 'motivational', 'visibility', 'opens', 'liked', 'search', 'job', 'post']\n",
      "\n",
      "\n",
      "The top 15 word for 1 is :\n",
      "['thankful', 'keeping', 'tensorflow', 'teachers', 'binging', 'stumbled', 'andrew', 'assignments', 'specialized', 'started', 'completed', 'concept', 'videos', 'coursera', 'voila', 'like', 'ai', 'laurence', 'courses', 'specialization']\n",
      "\n",
      "\n",
      "The top 15 word for 2 is :\n",
      "['home', 'global', 'functions', 'ostrowskiego', 'teamzf', 'poland', 'engagedemployees', 'division', 'recently', 'control', 'continue', 'sites', 'commercial', 'check', 'street', 'supply', 'buildings', 'engineering', 'zf', 'wroclaw']\n",
      "\n",
      "\n",
      "The top 15 word for 3 is :\n",
      "['village', 'make', 'hosahalli', 'highway', 'applied', 'saturday', 'behalf', 'pour', 'universe', 'biggest', 'heart', 'country', 'announce', 'entire', 'market', 'farmers', 'jai', 'mandya', 'india', 'organic']\n",
      "\n",
      "\n",
      "The top 15 word for 4 is :\n",
      "['meeting', 'supported', 'monumentally', 'artists', 'approach', 'glass', 'apple', 'underwater', 'store', 'musicians', 'located', 'fully', 'sporting', 'sphere', 'iconic', 'floating', 'speaks', 'singapore', 'age', 'creators']\n",
      "\n",
      "\n",
      "The top 15 word for 5 is :\n",
      "['classes', 'campus', 'announcement', 'catch', 'slept', 'sleep', 'chat', 'chit', 'mates', 'time', 'day', 'pm', 'didn', 'thought', 'quiz', 'night', 'things', 'studying', 'afternoon', 'study']\n",
      "\n",
      "\n",
      "The top 15 word for 6 is :\n",
      "['reverse', 'console', 'continuously', 'cloth', 'ga', 'model', 'kg', 'built', 'miniature', 'electric', 'designed', 'real', 'arunkumar', 'taken', 'charger', 'charge', 'mahindra', 'anand', 'used', 'jeep']\n",
      "\n",
      "\n",
      "The top 15 word for 7 is :\n",
      "['going', 'gives', 'love', 'lot', 'loss', 'losing', 'hunting', 'eda', 'day', 'problems', 'telecom', 'story', 'business', 'tableau', 'dashboard', 'data', 'powerful', 'company', 'churn', 'customers']\n",
      "\n",
      "\n",
      "The top 15 word for 8 is :\n",
      "['19', 'internship', 'iot', 'impact', 'information', 'master', 'big', 'school', 'extremely', 'period', 'crucial', 'seeking', 'privileged', 'resume', 'pursing', 'starting', 'automotive', 'companies', 'manipal', 'embedded']\n",
      "\n",
      "\n",
      "The top 15 word for 9 is :\n",
      "['comment', 'open', 'suggestions', 'unfortunately', 'boarding', 'appreciated', 'various', 'trying', 'new', 'experience', 'best', 'connections', 'payroll', 'employee', 'hire', 'help', 'end', 'job', 'support', 'hr']\n",
      "\n",
      "\n"
     ]
    },
    {
     "data": {
      "text/html": [
       "<div>\n",
       "<style scoped>\n",
       "    .dataframe tbody tr th:only-of-type {\n",
       "        vertical-align: middle;\n",
       "    }\n",
       "\n",
       "    .dataframe tbody tr th {\n",
       "        vertical-align: top;\n",
       "    }\n",
       "\n",
       "    .dataframe thead th {\n",
       "        text-align: right;\n",
       "    }\n",
       "</style>\n",
       "<table border=\"1\" class=\"dataframe\">\n",
       "  <thead>\n",
       "    <tr style=\"text-align: right;\">\n",
       "      <th></th>\n",
       "      <th>Posts</th>\n",
       "      <th>topic</th>\n",
       "      <th>topic_labels</th>\n",
       "    </tr>\n",
       "    <tr>\n",
       "      <th>ID</th>\n",
       "      <th></th>\n",
       "      <th></th>\n",
       "      <th></th>\n",
       "    </tr>\n",
       "  </thead>\n",
       "  <tbody>\n",
       "    <tr>\n",
       "      <th>101</th>\n",
       "      <td>Completed an AI Specialization!Few months back...</td>\n",
       "      <td>1</td>\n",
       "      <td>ai course by laurence</td>\n",
       "    </tr>\n",
       "    <tr>\n",
       "      <th>102</th>\n",
       "      <td>I have submitted my resume to hundreds of comp...</td>\n",
       "      <td>8</td>\n",
       "      <td>automotive companies internship</td>\n",
       "    </tr>\n",
       "    <tr>\n",
       "      <th>103</th>\n",
       "      <td>Proud to announce on behalf of all Mandya Dist...</td>\n",
       "      <td>3</td>\n",
       "      <td>mandya farmers</td>\n",
       "    </tr>\n",
       "    <tr>\n",
       "      <th>104</th>\n",
       "      <td>I am posting for the second time. As i am tryi...</td>\n",
       "      <td>9</td>\n",
       "      <td>job support</td>\n",
       "    </tr>\n",
       "    <tr>\n",
       "      <th>105</th>\n",
       "      <td>As we continue our journey of becoming part of...</td>\n",
       "      <td>2</td>\n",
       "      <td>wroclaw-poland</td>\n",
       "    </tr>\n",
       "    <tr>\n",
       "      <th>106</th>\n",
       "      <td>Electric Miniature jeep!! Arunkumar, Kerala de...</td>\n",
       "      <td>6</td>\n",
       "      <td>electric jeep</td>\n",
       "    </tr>\n",
       "    <tr>\n",
       "      <th>107</th>\n",
       "      <td>There are so many professional's on LinkedIn t...</td>\n",
       "      <td>0</td>\n",
       "      <td>LinkedIn</td>\n",
       "    </tr>\n",
       "    <tr>\n",
       "      <th>108</th>\n",
       "      <td>Apple’s most iconic retail store to date. Insp...</td>\n",
       "      <td>4</td>\n",
       "      <td>apple singapore</td>\n",
       "    </tr>\n",
       "    <tr>\n",
       "      <th>109</th>\n",
       "      <td>Life starts when you solve problems, as a data...</td>\n",
       "      <td>7</td>\n",
       "      <td>telecom business dashboards using tablaeu</td>\n",
       "    </tr>\n",
       "    <tr>\n",
       "      <th>110</th>\n",
       "      <td>When I was at IIM Ahmedabad, I had the habit o...</td>\n",
       "      <td>5</td>\n",
       "      <td>campus education</td>\n",
       "    </tr>\n",
       "  </tbody>\n",
       "</table>\n",
       "</div>"
      ],
      "text/plain": [
       "                                                 Posts  topic  \\\n",
       "ID                                                              \n",
       "101  Completed an AI Specialization!Few months back...      1   \n",
       "102  I have submitted my resume to hundreds of comp...      8   \n",
       "103  Proud to announce on behalf of all Mandya Dist...      3   \n",
       "104  I am posting for the second time. As i am tryi...      9   \n",
       "105  As we continue our journey of becoming part of...      2   \n",
       "106  Electric Miniature jeep!! Arunkumar, Kerala de...      6   \n",
       "107  There are so many professional's on LinkedIn t...      0   \n",
       "108  Apple’s most iconic retail store to date. Insp...      4   \n",
       "109  Life starts when you solve problems, as a data...      7   \n",
       "110  When I was at IIM Ahmedabad, I had the habit o...      5   \n",
       "\n",
       "                                  topic_labels  \n",
       "ID                                              \n",
       "101                      ai course by laurence  \n",
       "102            automotive companies internship  \n",
       "103                             mandya farmers  \n",
       "104                                job support  \n",
       "105                             wroclaw-poland  \n",
       "106                              electric jeep  \n",
       "107                                   LinkedIn  \n",
       "108                            apple singapore  \n",
       "109  telecom business dashboards using tablaeu  \n",
       "110                           campus education  "
      ]
     },
     "execution_count": 17,
     "metadata": {},
     "output_type": "execute_result"
    }
   ],
   "source": [
    "topic_modelling(df)"
   ]
  },
  {
   "cell_type": "code",
   "execution_count": null,
   "metadata": {},
   "outputs": [],
   "source": []
  },
  {
   "cell_type": "code",
   "execution_count": null,
   "metadata": {},
   "outputs": [],
   "source": []
  }
 ],
 "metadata": {
  "kernelspec": {
   "display_name": "Python 3",
   "language": "python",
   "name": "python3"
  },
  "language_info": {
   "codemirror_mode": {
    "name": "ipython",
    "version": 3
   },
   "file_extension": ".py",
   "mimetype": "text/x-python",
   "name": "python",
   "nbconvert_exporter": "python",
   "pygments_lexer": "ipython3",
   "version": "3.8.3"
  }
 },
 "nbformat": 4,
 "nbformat_minor": 4
}
